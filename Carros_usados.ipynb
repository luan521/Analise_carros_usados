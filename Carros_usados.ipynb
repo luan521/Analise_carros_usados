{
 "cells": [
  {
   "cell_type": "markdown",
   "metadata": {},
   "source": [
    "## Introdução"
   ]
  },
  {
   "cell_type": "markdown",
   "metadata": {},
   "source": [
    "Neste projeto, utilizaremos um [data set](https://www.kaggle.com/austinreese/craigslist-carstrucks-data/notebooks) de carros usados.  Iremos realizar uma análise dos dados, buscando compreender o comportamento estatístico de cada variável de forma individual, e possíveis dependências entre elas. Partindo da análise, criaremos um modelo que prevê o preço de um carro usado."
   ]
  },
  {
   "cell_type": "code",
   "execution_count": 1,
   "metadata": {},
   "outputs": [],
   "source": [
    "!git clone https://github.com/luan521/Teste_icarros.git"
   ]
  },
  {
   "cell_type": "code",
   "execution_count": 2,
   "metadata": {},
   "outputs": [],
   "source": [
    "# Importando bibliotecas, que serão utilizadas no projeto:\n",
    "\n",
    "import pandas as pd\n",
    "import numpy as np\n",
    "import math as m\n",
    "import matplotlib.pyplot as plt\n",
    "import seaborn as sns\n",
    "from sklearn.cluster import KMeans\n",
    "from sklearn.linear_model import LinearRegression"
   ]
  },
  {
   "cell_type": "code",
   "execution_count": 3,
   "metadata": {},
   "outputs": [],
   "source": [
    "from Teste_icarros.Scaler import ReplaceOutliers\n",
    "from Teste_icarros.Scaler import CustomScaler\n",
    "from Teste_icarros.Funções_icarros import entropia\n",
    "from Teste_icarros.Funções_icarros import inf_mutua"
   ]
  },
  {
   "cell_type": "code",
   "execution_count": 4,
   "metadata": {},
   "outputs": [
    {
     "data": {
      "text/html": [
       "<div>\n",
       "<style scoped>\n",
       "    .dataframe tbody tr th:only-of-type {\n",
       "        vertical-align: middle;\n",
       "    }\n",
       "\n",
       "    .dataframe tbody tr th {\n",
       "        vertical-align: top;\n",
       "    }\n",
       "\n",
       "    .dataframe thead th {\n",
       "        text-align: right;\n",
       "    }\n",
       "</style>\n",
       "<table border=\"1\" class=\"dataframe\">\n",
       "  <thead>\n",
       "    <tr style=\"text-align: right;\">\n",
       "      <th></th>\n",
       "      <th>Unnamed: 0</th>\n",
       "      <th>id</th>\n",
       "      <th>url</th>\n",
       "      <th>region</th>\n",
       "      <th>region_url</th>\n",
       "      <th>price</th>\n",
       "      <th>year</th>\n",
       "      <th>manufacturer</th>\n",
       "      <th>model</th>\n",
       "      <th>condition</th>\n",
       "      <th>...</th>\n",
       "      <th>drive</th>\n",
       "      <th>size</th>\n",
       "      <th>type</th>\n",
       "      <th>paint_color</th>\n",
       "      <th>image_url</th>\n",
       "      <th>description</th>\n",
       "      <th>state</th>\n",
       "      <th>lat</th>\n",
       "      <th>long</th>\n",
       "      <th>posting_date</th>\n",
       "    </tr>\n",
       "  </thead>\n",
       "  <tbody>\n",
       "    <tr>\n",
       "      <th>0</th>\n",
       "      <td>0</td>\n",
       "      <td>7240372487</td>\n",
       "      <td>https://auburn.craigslist.org/ctd/d/auburn-uni...</td>\n",
       "      <td>auburn</td>\n",
       "      <td>https://auburn.craigslist.org</td>\n",
       "      <td>35990</td>\n",
       "      <td>2010.0</td>\n",
       "      <td>chevrolet</td>\n",
       "      <td>corvette grand sport</td>\n",
       "      <td>good</td>\n",
       "      <td>...</td>\n",
       "      <td>rwd</td>\n",
       "      <td>NaN</td>\n",
       "      <td>other</td>\n",
       "      <td>NaN</td>\n",
       "      <td>https://images.craigslist.org/00N0N_ipkbHVZYf4...</td>\n",
       "      <td>Carvana is the safer way to buy a car During t...</td>\n",
       "      <td>al</td>\n",
       "      <td>32.590000</td>\n",
       "      <td>-85.480000</td>\n",
       "      <td>2020-12-02T08:11:30-0600</td>\n",
       "    </tr>\n",
       "    <tr>\n",
       "      <th>1</th>\n",
       "      <td>1</td>\n",
       "      <td>7240309422</td>\n",
       "      <td>https://auburn.craigslist.org/cto/d/auburn-201...</td>\n",
       "      <td>auburn</td>\n",
       "      <td>https://auburn.craigslist.org</td>\n",
       "      <td>7500</td>\n",
       "      <td>2014.0</td>\n",
       "      <td>hyundai</td>\n",
       "      <td>sonata</td>\n",
       "      <td>excellent</td>\n",
       "      <td>...</td>\n",
       "      <td>fwd</td>\n",
       "      <td>NaN</td>\n",
       "      <td>sedan</td>\n",
       "      <td>NaN</td>\n",
       "      <td>https://images.craigslist.org/00s0s_gBHYmJ5o7y...</td>\n",
       "      <td>I'll move to another city and try to sell my c...</td>\n",
       "      <td>al</td>\n",
       "      <td>32.547500</td>\n",
       "      <td>-85.468200</td>\n",
       "      <td>2020-12-02T02:11:50-0600</td>\n",
       "    </tr>\n",
       "    <tr>\n",
       "      <th>2</th>\n",
       "      <td>2</td>\n",
       "      <td>7240224296</td>\n",
       "      <td>https://auburn.craigslist.org/cto/d/auburn-200...</td>\n",
       "      <td>auburn</td>\n",
       "      <td>https://auburn.craigslist.org</td>\n",
       "      <td>4900</td>\n",
       "      <td>2006.0</td>\n",
       "      <td>bmw</td>\n",
       "      <td>x3 3.0i</td>\n",
       "      <td>good</td>\n",
       "      <td>...</td>\n",
       "      <td>NaN</td>\n",
       "      <td>NaN</td>\n",
       "      <td>SUV</td>\n",
       "      <td>blue</td>\n",
       "      <td>https://images.craigslist.org/00B0B_5zgEGWPOrt...</td>\n",
       "      <td>Clean 2006 BMW X3 3.0I.  Beautiful and rare Bl...</td>\n",
       "      <td>al</td>\n",
       "      <td>32.616807</td>\n",
       "      <td>-85.464149</td>\n",
       "      <td>2020-12-01T19:50:41-0600</td>\n",
       "    </tr>\n",
       "    <tr>\n",
       "      <th>3</th>\n",
       "      <td>3</td>\n",
       "      <td>7240103965</td>\n",
       "      <td>https://auburn.craigslist.org/cto/d/lanett-tru...</td>\n",
       "      <td>auburn</td>\n",
       "      <td>https://auburn.craigslist.org</td>\n",
       "      <td>2000</td>\n",
       "      <td>1974.0</td>\n",
       "      <td>chevrolet</td>\n",
       "      <td>c-10</td>\n",
       "      <td>good</td>\n",
       "      <td>...</td>\n",
       "      <td>rwd</td>\n",
       "      <td>full-size</td>\n",
       "      <td>pickup</td>\n",
       "      <td>blue</td>\n",
       "      <td>https://images.craigslist.org/00M0M_6o7KcDpArw...</td>\n",
       "      <td>1974 chev. truck (LONG BED) NEW starter front ...</td>\n",
       "      <td>al</td>\n",
       "      <td>32.861600</td>\n",
       "      <td>-85.216100</td>\n",
       "      <td>2020-12-01T15:54:45-0600</td>\n",
       "    </tr>\n",
       "    <tr>\n",
       "      <th>4</th>\n",
       "      <td>4</td>\n",
       "      <td>7239983776</td>\n",
       "      <td>https://auburn.craigslist.org/cto/d/auburn-200...</td>\n",
       "      <td>auburn</td>\n",
       "      <td>https://auburn.craigslist.org</td>\n",
       "      <td>19500</td>\n",
       "      <td>2005.0</td>\n",
       "      <td>ford</td>\n",
       "      <td>f350 lariat</td>\n",
       "      <td>excellent</td>\n",
       "      <td>...</td>\n",
       "      <td>4wd</td>\n",
       "      <td>full-size</td>\n",
       "      <td>pickup</td>\n",
       "      <td>blue</td>\n",
       "      <td>https://images.craigslist.org/00p0p_b95l1EgUfl...</td>\n",
       "      <td>2005 Ford F350 Lariat (Bullet Proofed). This t...</td>\n",
       "      <td>al</td>\n",
       "      <td>32.547500</td>\n",
       "      <td>-85.468200</td>\n",
       "      <td>2020-12-01T12:53:56-0600</td>\n",
       "    </tr>\n",
       "  </tbody>\n",
       "</table>\n",
       "<p>5 rows × 26 columns</p>\n",
       "</div>"
      ],
      "text/plain": [
       "   Unnamed: 0          id                                                url  \\\n",
       "0           0  7240372487  https://auburn.craigslist.org/ctd/d/auburn-uni...   \n",
       "1           1  7240309422  https://auburn.craigslist.org/cto/d/auburn-201...   \n",
       "2           2  7240224296  https://auburn.craigslist.org/cto/d/auburn-200...   \n",
       "3           3  7240103965  https://auburn.craigslist.org/cto/d/lanett-tru...   \n",
       "4           4  7239983776  https://auburn.craigslist.org/cto/d/auburn-200...   \n",
       "\n",
       "   region                     region_url  price    year manufacturer  \\\n",
       "0  auburn  https://auburn.craigslist.org  35990  2010.0    chevrolet   \n",
       "1  auburn  https://auburn.craigslist.org   7500  2014.0      hyundai   \n",
       "2  auburn  https://auburn.craigslist.org   4900  2006.0          bmw   \n",
       "3  auburn  https://auburn.craigslist.org   2000  1974.0    chevrolet   \n",
       "4  auburn  https://auburn.craigslist.org  19500  2005.0         ford   \n",
       "\n",
       "                  model  condition  ... drive       size    type paint_color  \\\n",
       "0  corvette grand sport       good  ...   rwd        NaN   other         NaN   \n",
       "1                sonata  excellent  ...   fwd        NaN   sedan         NaN   \n",
       "2               x3 3.0i       good  ...   NaN        NaN     SUV        blue   \n",
       "3                  c-10       good  ...   rwd  full-size  pickup        blue   \n",
       "4           f350 lariat  excellent  ...   4wd  full-size  pickup        blue   \n",
       "\n",
       "                                           image_url  \\\n",
       "0  https://images.craigslist.org/00N0N_ipkbHVZYf4...   \n",
       "1  https://images.craigslist.org/00s0s_gBHYmJ5o7y...   \n",
       "2  https://images.craigslist.org/00B0B_5zgEGWPOrt...   \n",
       "3  https://images.craigslist.org/00M0M_6o7KcDpArw...   \n",
       "4  https://images.craigslist.org/00p0p_b95l1EgUfl...   \n",
       "\n",
       "                                         description state        lat  \\\n",
       "0  Carvana is the safer way to buy a car During t...    al  32.590000   \n",
       "1  I'll move to another city and try to sell my c...    al  32.547500   \n",
       "2  Clean 2006 BMW X3 3.0I.  Beautiful and rare Bl...    al  32.616807   \n",
       "3  1974 chev. truck (LONG BED) NEW starter front ...    al  32.861600   \n",
       "4  2005 Ford F350 Lariat (Bullet Proofed). This t...    al  32.547500   \n",
       "\n",
       "        long              posting_date  \n",
       "0 -85.480000  2020-12-02T08:11:30-0600  \n",
       "1 -85.468200  2020-12-02T02:11:50-0600  \n",
       "2 -85.464149  2020-12-01T19:50:41-0600  \n",
       "3 -85.216100  2020-12-01T15:54:45-0600  \n",
       "4 -85.468200  2020-12-01T12:53:56-0600  \n",
       "\n",
       "[5 rows x 26 columns]"
      ]
     },
     "execution_count": 4,
     "metadata": {},
     "output_type": "execute_result"
    }
   ],
   "source": [
    "# Carregando os dados\n",
    "\n",
    "df = pd.read_csv('vehicles.csv')\n",
    "df.head()"
   ]
  },
  {
   "cell_type": "markdown",
   "metadata": {},
   "source": [
    "Temos 26 colunas presentes no dataset fornecido, sendo vinte e cinco delas variáveis características (dados de entrada) e um delas (price) uma variável-alvo (que queremos que o nosso modelo seja capaz de prever).\n",
    "\n",
    "Algumas variáveis caracteristicas, são claramente irrelevantes para o processo de análise e criação do modelo:\n",
    "- Unnamed: 0\n",
    "- id\n",
    "- url\n",
    "- region_url\n",
    "- VIN\n",
    "- image_url\n",
    "- description\n",
    "\n",
    "Percebe-se também a presença de valores ausentes no data set. Portanto, antes de começar o processo de análise, excluiremos as colunas acima, e faremos um processo de limpeza dos dados."
   ]
  },
  {
   "cell_type": "markdown",
   "metadata": {},
   "source": [
    "## Cleaning data"
   ]
  },
  {
   "cell_type": "code",
   "execution_count": 5,
   "metadata": {},
   "outputs": [],
   "source": [
    "# Excluindo as colunas irrelevantes.\n",
    "\n",
    "cols_drop = ['Unnamed: 0','id','url','region_url','VIN','image_url','description']\n",
    "df1 = df.drop(cols_drop, axis = 1)"
   ]
  },
  {
   "cell_type": "code",
   "execution_count": 6,
   "metadata": {},
   "outputs": [
    {
     "name": "stdout",
     "output_type": "stream",
     "text": [
      "Variáveis numéricas:\n",
      "odometer        0.120693\n",
      "long            0.016254\n",
      "lat             0.016254\n",
      "year            0.002292\n",
      "posting_date    0.000061\n",
      "dtype: float64\n",
      "\n",
      "Variáveis categóricas:\n",
      "size            0.701307\n",
      "condition       0.421071\n",
      "cylinders       0.373494\n",
      "paint_color     0.307375\n",
      "drive           0.292851\n",
      "type            0.246038\n",
      "manufacturer    0.039763\n",
      "model           0.010576\n",
      "fuel            0.007064\n",
      "title_status    0.005624\n",
      "transmission    0.005329\n",
      "state           0.000000\n",
      "region          0.000000\n",
      "dtype: float64\n"
     ]
    }
   ],
   "source": [
    "# Identificando a proporção de dados faltantes (em relação ao tamanho do data set), para cada coluna.\n",
    "\n",
    "var_num = ['odometer','lat','long','year','posting_date']\n",
    "var_cat = [c for c in df1.columns if c not in var_num+['price']]\n",
    "\n",
    "print('Variáveis numéricas:\\n',(df1[var_num].isnull().sum()/df1.shape[0]).sort_values(ascending=False), sep = '')\n",
    "print('\\nVariáveis categóricas:\\n',(df1[var_cat].isnull().sum()/df1.shape[0]).sort_values(ascending=False), sep = '')"
   ]
  },
  {
   "cell_type": "markdown",
   "metadata": {},
   "source": [
    "Tomaremos aqui a seguinte estratégia, para tratar os dados faltantes: \n",
    "- Se a quantidade de dados faltantes para uma dada coluna, representar menos que 1% do data set, então resolveremos o problema excluindo as observações com dados faltantes.\n",
    "- Quando a hipótese acima não for satisfeita, e a coluna tratada for uma variável numérica, então substituimos o valor nulo pela média dos valores não nulos da coluna.\n",
    "- Por último, quando a variável for categórica, substituimos os valores nulos pelo valor \"missing\"."
   ]
  },
  {
   "cell_type": "code",
   "execution_count": 7,
   "metadata": {},
   "outputs": [],
   "source": [
    "mean_odometer = df1['odometer'].mean() # Média da coluna \"odometer\"\n",
    "mean_long = df1['long'].mean() # Média da coluna \"long\"\n",
    "mean_lat = df1['lat'].mean() # # Média da coluna \"lat\"\n",
    "\n",
    "preenchimento = {c:'missing' for c in var_cat if df1[c].isnull().sum()/df1.shape[0] >= 0.01}\n",
    "preenchimento['odometer'] = mean_odometer\n",
    "preenchimento['long'] = mean_long\n",
    "preenchimento['lat'] = mean_lat\n",
    "\n",
    "df2 = df1.fillna(preenchimento)\n",
    "df2 = df2.dropna() "
   ]
  },
  {
   "cell_type": "code",
   "execution_count": 8,
   "metadata": {},
   "outputs": [
    {
     "name": "stdout",
     "output_type": "stream",
     "text": [
      "Dados excluidos: 1.51%\n"
     ]
    }
   ],
   "source": [
    "print('Dados excluidos: ',round(100*(1-df2.shape[0]/df.shape[0]),3),'%', sep = '')"
   ]
  },
  {
   "cell_type": "code",
   "execution_count": 9,
   "metadata": {},
   "outputs": [
    {
     "name": "stdout",
     "output_type": "stream",
     "text": [
      "Variáveis numéricas:\n",
      "posting_date    0.0\n",
      "year            0.0\n",
      "long            0.0\n",
      "lat             0.0\n",
      "odometer        0.0\n",
      "dtype: float64\n",
      "\n",
      "Variáveis categóricas:\n",
      "state           0.0\n",
      "paint_color     0.0\n",
      "type            0.0\n",
      "size            0.0\n",
      "drive           0.0\n",
      "transmission    0.0\n",
      "title_status    0.0\n",
      "fuel            0.0\n",
      "cylinders       0.0\n",
      "condition       0.0\n",
      "model           0.0\n",
      "manufacturer    0.0\n",
      "region          0.0\n",
      "dtype: float64\n"
     ]
    }
   ],
   "source": [
    "print('Variáveis numéricas:\\n',(df2[var_num].isnull().sum()/df2.shape[0]).sort_values(ascending=False), sep = '')\n",
    "print('\\nVariáveis categóricas:\\n',(df2[var_cat].isnull().sum()/df2.shape[0]).sort_values(ascending=False), sep = '')"
   ]
  },
  {
   "cell_type": "markdown",
   "metadata": {},
   "source": [
    "\n",
    "Neste momento, nosso data set não possui valores nulos. Resta agora um problema na coluna preço, como pode-se observar no gráfico abaixo, existem preços com valor 0, o que não condiz com o preço de um carro. Como não podemos manipular a variável alvo, pois é esta que buscaremos prever, devemos excluir estes dados.\n"
   ]
  },
  {
   "cell_type": "code",
   "execution_count": 10,
   "metadata": {},
   "outputs": [
    {
     "name": "stderr",
     "output_type": "stream",
     "text": [
      "C:\\Users\\Luan\\anaconda3\\envs\\py3-TF2.0\\lib\\site-packages\\seaborn\\distributions.py:2551: FutureWarning: `distplot` is a deprecated function and will be removed in a future version. Please adapt your code to use either `displot` (a figure-level function with similar flexibility) or `histplot` (an axes-level function for histograms).\n",
      "  warnings.warn(msg, FutureWarning)\n",
      "C:\\Users\\Luan\\anaconda3\\envs\\py3-TF2.0\\lib\\site-packages\\seaborn\\distributions.py:2551: FutureWarning: `distplot` is a deprecated function and will be removed in a future version. Please adapt your code to use either `displot` (a figure-level function with similar flexibility) or `histplot` (an axes-level function for histograms).\n",
      "  warnings.warn(msg, FutureWarning)\n",
      "C:\\Users\\Luan\\anaconda3\\envs\\py3-TF2.0\\lib\\site-packages\\seaborn\\distributions.py:2551: FutureWarning: `distplot` is a deprecated function and will be removed in a future version. Please adapt your code to use either `displot` (a figure-level function with similar flexibility) or `histplot` (an axes-level function for histograms).\n",
      "  warnings.warn(msg, FutureWarning)\n"
     ]
    },
    {
     "data": {
      "image/png": "[encoded data removed]",
      "text/plain": [
       "<Figure size 1080x360 with 3 Axes>"
      ]
     },
     "metadata": {},
     "output_type": "display_data"
    }
   ],
   "source": [
    "q = df2['price'].quantile(0.99)\n",
    "price = df2['price'][df2['price'] < q]\n",
    "price_no_0 = price[price > 0]\n",
    "\n",
    "price_df = pd.DataFrame({'Price': df2['price'],'Price_no_max_outliers': price, 'Price_no_0': price_no_0})\n",
    "\n",
    "sns.set(rc={\"figure.figsize\": (15, 5)})\n",
    "\n",
    "plt.subplot(1,3,1)\n",
    "sns.distplot(price_df['Price'])\n",
    "\n",
    "plt.subplot(1,3,2)\n",
    "sns.distplot(price_df['Price_no_max_outliers'])\n",
    "\n",
    "plt.subplot(1,3,3)\n",
    "sns.distplot(price_df['Price_no_0'])\n",
    "\n",
    "plt.show()"
   ]
  },
  {
   "cell_type": "code",
   "execution_count": 11,
   "metadata": {},
   "outputs": [],
   "source": [
    "# Excluindo os dados, tais que preço < 10.\n",
    "\n",
    "df3 = df2[df2['price'] > 10]\n",
    "df3.index = range(df3.shape[0])"
   ]
  },
  {
   "cell_type": "code",
   "execution_count": 12,
   "metadata": {},
   "outputs": [
    {
     "name": "stdout",
     "output_type": "stream",
     "text": [
      "Dados excluidos: 9.03%\n"
     ]
    }
   ],
   "source": [
    "print('Dados excluidos: ',round(100*(1-df3.shape[0]/df.shape[0]),2),'%', sep = '')"
   ]
  },
  {
   "cell_type": "markdown",
   "metadata": {},
   "source": [
    "Ao final do nosso processo de limpeza dos dados, 9.03% dos dados iniciais foram perdidos. \n",
    "\n",
    "Antes de entrar no processo de análise, vamos ordenar as colunas do data set, deixando por último a variável alvo (price). Vamos também dividir os dados em train, validation e test. Toda a análise será realizada nos dados train, em seguida o modelo será criado e treinado em cima desses dados, os dados validation serão utilizados para validar o modelo, neste estágio teremos liberdade para modificar alguns parâmetros e treinar o modelo novamente em cima dos dados train, buscando atingir a melhor precisão em cima dos dados validation. Por último, os dados test serão utilizados para calcular a precisão final do modelo."
   ]
  },
  {
   "cell_type": "code",
   "execution_count": 13,
   "metadata": {},
   "outputs": [
    {
     "data": {
      "text/plain": [
       "Index(['region', 'price', 'year', 'manufacturer', 'model', 'condition',\n",
       "       'cylinders', 'fuel', 'odometer', 'title_status', 'transmission',\n",
       "       'drive', 'size', 'type', 'paint_color', 'state', 'lat', 'long',\n",
       "       'posting_date'],\n",
       "      dtype='object')"
      ]
     },
     "execution_count": 13,
     "metadata": {},
     "output_type": "execute_result"
    }
   ],
   "source": [
    "df3.columns"
   ]
  },
  {
   "cell_type": "code",
   "execution_count": 14,
   "metadata": {},
   "outputs": [],
   "source": [
    "# Ordenando as colunas do data set, colocando a variável alvo (price) por último.\n",
    "\n",
    "df3 = df3[['region', 'year', 'manufacturer', 'model', 'condition',\n",
    "       'cylinders', 'fuel', 'odometer', 'title_status', 'transmission',\n",
    "       'drive', 'size', 'type', 'paint_color', 'state', 'lat', 'long','price']]"
   ]
  },
  {
   "cell_type": "code",
   "execution_count": 15,
   "metadata": {},
   "outputs": [],
   "source": [
    "# Randomizando os índices do data set, e dividindo em train, validation e test.\n",
    "\n",
    "qt_train_data = int(0.7*df3.shape[0]) \n",
    "qt_validation_data = int(0.15*df3.shape[0])\n",
    "\n",
    "ind = np.arange(df3.shape[0])\n",
    "np.random.shuffle(ind)\n",
    "ind_train_data = ind[:qt_train_data]\n",
    "ind_validation_data = ind[qt_train_data:qt_train_data + qt_validation_data]\n",
    "ind_test_data = ind[qt_train_data + qt_validation_data:]\n",
    "\n",
    "df_train0 = df3.loc[ind_train_data,:]\n",
    "df_train0.index = range(df_train0.shape[0])\n",
    "df_validation0 = df3.loc[ind_validation_data,:]\n",
    "df_validation0.index = range(df_validation0.shape[0])\n",
    "df_test0 = df3.loc[ind_test_data,:]\n",
    "df_test0.index = range(df_test0.shape[0])"
   ]
  },
  {
   "cell_type": "markdown",
   "metadata": {},
   "source": [
    "## Analysis"
   ]
  },
  {
   "cell_type": "markdown",
   "metadata": {},
   "source": [
    "Começaremos analisando a coluna alvo (price), ja visializamos a distribuição dessa variável anteriormente, e é possível perceber uma assimetria positiva nessa distribuição, isto é, existem carros com preços muito elevados em relação a maioria. Estes outliers podem levar o modelo a se desviar do comportamento médio seguido pelos dados. "
   ]
  },
  {
   "cell_type": "code",
   "execution_count": 16,
   "metadata": {},
   "outputs": [
    {
     "name": "stderr",
     "output_type": "stream",
     "text": [
      "C:\\Users\\Luan\\anaconda3\\envs\\py3-TF2.0\\lib\\site-packages\\seaborn\\distributions.py:2551: FutureWarning: `distplot` is a deprecated function and will be removed in a future version. Please adapt your code to use either `displot` (a figure-level function with similar flexibility) or `histplot` (an axes-level function for histograms).\n",
      "  warnings.warn(msg, FutureWarning)\n",
      "C:\\Users\\Luan\\anaconda3\\envs\\py3-TF2.0\\lib\\site-packages\\seaborn\\distributions.py:2551: FutureWarning: `distplot` is a deprecated function and will be removed in a future version. Please adapt your code to use either `displot` (a figure-level function with similar flexibility) or `histplot` (an axes-level function for histograms).\n",
      "  warnings.warn(msg, FutureWarning)\n"
     ]
    },
    {
     "data": {
      "image/png": "[encoded data removed]",
      "text/plain": [
       "<Figure size 1080x360 with 2 Axes>"
      ]
     },
     "metadata": {},
     "output_type": "display_data"
    }
   ],
   "source": [
    "sns.set(rc={\"figure.figsize\": (15, 5)})\n",
    "\n",
    "plt.subplot(1,2,1)\n",
    "sns.distplot(df_train0['price'])\n",
    "\n",
    "plt.subplot(1,2,2)\n",
    "log_price = pd.Series(df_train0['price'].apply(m.log), name = 'log_price')\n",
    "sns.distplot(log_price)\n",
    "\n",
    "plt.show()"
   ]
  },
  {
   "cell_type": "code",
   "execution_count": 17,
   "metadata": {},
   "outputs": [
    {
     "data": {
      "text/html": [
       "<div>\n",
       "<style scoped>\n",
       "    .dataframe tbody tr th:only-of-type {\n",
       "        vertical-align: middle;\n",
       "    }\n",
       "\n",
       "    .dataframe tbody tr th {\n",
       "        vertical-align: top;\n",
       "    }\n",
       "\n",
       "    .dataframe thead th {\n",
       "        text-align: right;\n",
       "    }\n",
       "</style>\n",
       "<table border=\"1\" class=\"dataframe\">\n",
       "  <thead>\n",
       "    <tr style=\"text-align: right;\">\n",
       "      <th></th>\n",
       "      <th>Measure</th>\n",
       "      <th>Price</th>\n",
       "      <th>Log_Price</th>\n",
       "    </tr>\n",
       "  </thead>\n",
       "  <tbody>\n",
       "    <tr>\n",
       "      <th>0</th>\n",
       "      <td>Mean</td>\n",
       "      <td>55127.26</td>\n",
       "      <td>9.26</td>\n",
       "    </tr>\n",
       "    <tr>\n",
       "      <th>1</th>\n",
       "      <td>Median</td>\n",
       "      <td>12172.00</td>\n",
       "      <td>9.41</td>\n",
       "    </tr>\n",
       "    <tr>\n",
       "      <th>2</th>\n",
       "      <td>Mode</td>\n",
       "      <td>6995.00</td>\n",
       "      <td>8.85</td>\n",
       "    </tr>\n",
       "  </tbody>\n",
       "</table>\n",
       "</div>"
      ],
      "text/plain": [
       "  Measure     Price  Log_Price\n",
       "0    Mean  55127.26       9.26\n",
       "1  Median  12172.00       9.41\n",
       "2    Mode   6995.00       8.85"
      ]
     },
     "execution_count": 17,
     "metadata": {},
     "output_type": "execute_result"
    }
   ],
   "source": [
    "\n",
    "measure = ['Mean', 'Median', 'Mode']\n",
    "measure_price = [round(df_train0['price'].mean(),2), round(df_train0['price'].median(),2), round(df_train0['price'].mode()[0],2)]\n",
    "measure_log_price = [round(log_price.mean(),2), round(log_price.median(),2), round(log_price.mode()[0],2)]\n",
    "\n",
    "measure_df = pd.DataFrame({'Measure':measure,'Price': measure_price, 'Log_Price': measure_log_price})\n",
    "measure_df"
   ]
  },
  {
   "cell_type": "markdown",
   "metadata": {},
   "source": [
    "Os gráficos exibidos, assim como a tabela acima, mostram que aplicando a transformação logarítmica na variável price, os dados passam a seguir uma distribuição mais próxima de uma Gaussiana. A média, mediana e moda da coluna Log_Price são valores próximos, enquanto que para a coluna Price, estes valores encontram-se distantes uns dos outros, evidenciando a simetria na distribuição de Log_price e assimetria na distribuição da coluna Price.\n",
    "\n",
    "Contudo, criaremos uma nova coluna, que é a transformação logarítmica da variável price."
   ]
  },
  {
   "cell_type": "code",
   "execution_count": 18,
   "metadata": {},
   "outputs": [],
   "source": [
    "# Criando uma nova coluna, que é o log da coluna álvo (price).\n",
    "\n",
    "df_train0['log_price'] = df_train0['price'].apply(m.log)"
   ]
  },
  {
   "cell_type": "markdown",
   "metadata": {},
   "source": [
    "\n",
    "Vamos analisar agora as variáveis odometer, que nos diz a kilometragem percorrida pelo carro, e year, que nos diz o ano em que o carro foi produzido. Pelo gráfico gerado abaixo, vemos que existem carros antigos fugindo do comportamento médio dos dados, e carros que percorreram uma quilometragem muito maior do que a média dos dados. Trataremos este problema eliminando uma parte dos dados que contêm estes outliers \n",
    "\n",
    "Estas variáveis estão intrisicamente relacionadas, quanto mais velho o carro maior deve ser a quilometragem percorrida. Voltaremos a este assunto mais a frente, quando estivermos analisando relações de dependência entre as variáveis.\n"
   ]
  },
  {
   "cell_type": "code",
   "execution_count": 19,
   "metadata": {},
   "outputs": [
    {
     "name": "stderr",
     "output_type": "stream",
     "text": [
      "C:\\Users\\Luan\\anaconda3\\envs\\py3-TF2.0\\lib\\site-packages\\seaborn\\distributions.py:2551: FutureWarning: `distplot` is a deprecated function and will be removed in a future version. Please adapt your code to use either `displot` (a figure-level function with similar flexibility) or `histplot` (an axes-level function for histograms).\n",
      "  warnings.warn(msg, FutureWarning)\n",
      "C:\\Users\\Luan\\anaconda3\\envs\\py3-TF2.0\\lib\\site-packages\\seaborn\\distributions.py:2551: FutureWarning: `distplot` is a deprecated function and will be removed in a future version. Please adapt your code to use either `displot` (a figure-level function with similar flexibility) or `histplot` (an axes-level function for histograms).\n",
      "  warnings.warn(msg, FutureWarning)\n"
     ]
    },
    {
     "data": {
      "image/png": "[encoded data removed]",
      "text/plain": [
       "<Figure size 1080x360 with 2 Axes>"
      ]
     },
     "metadata": {},
     "output_type": "display_data"
    }
   ],
   "source": [
    "sns.set(rc={\"figure.figsize\": (15, 5)})\n",
    "\n",
    "plt.subplot(1,2,1)\n",
    "sns.distplot(df_train0['year'])\n",
    "\n",
    "plt.subplot(1,2,2)\n",
    "sns.distplot(df_train0['odometer'])\n",
    "\n",
    "plt.show()"
   ]
  },
  {
   "cell_type": "code",
   "execution_count": 20,
   "metadata": {},
   "outputs": [],
   "source": [
    "q_odometer = df_train0['odometer'].quantile(0.99)\n",
    "q_year = df_train0['year'].quantile(0.01)\n",
    "\n",
    "df_train1 = df_train0[df_train0['odometer'] < q_odometer]\n",
    "df_train1 = df_train1[df_train1['year'] > q_year]\n",
    "\n",
    "df_train1.index = range(df_train1.shape[0])"
   ]
  },
  {
   "cell_type": "code",
   "execution_count": 21,
   "metadata": {},
   "outputs": [],
   "source": [
    "cols_scaler = ['year','odometer']\n",
    "scaler = CustomScaler(cols_scaler)"
   ]
  },
  {
   "cell_type": "code",
   "execution_count": 22,
   "metadata": {},
   "outputs": [],
   "source": [
    "scaler.fit(df_train1)\n",
    "df_train1 = scaler.transform(df_train1)"
   ]
  },
  {
   "cell_type": "code",
   "execution_count": 23,
   "metadata": {},
   "outputs": [
    {
     "name": "stderr",
     "output_type": "stream",
     "text": [
      "C:\\Users\\Luan\\anaconda3\\envs\\py3-TF2.0\\lib\\site-packages\\seaborn\\distributions.py:2551: FutureWarning: `distplot` is a deprecated function and will be removed in a future version. Please adapt your code to use either `displot` (a figure-level function with similar flexibility) or `histplot` (an axes-level function for histograms).\n",
      "  warnings.warn(msg, FutureWarning)\n",
      "C:\\Users\\Luan\\anaconda3\\envs\\py3-TF2.0\\lib\\site-packages\\seaborn\\distributions.py:2551: FutureWarning: `distplot` is a deprecated function and will be removed in a future version. Please adapt your code to use either `displot` (a figure-level function with similar flexibility) or `histplot` (an axes-level function for histograms).\n",
      "  warnings.warn(msg, FutureWarning)\n"
     ]
    },
    {
     "data": {
      "image/png": "[encoded data removed]",
      "text/plain": [
       "<Figure size 1080x360 with 2 Axes>"
      ]
     },
     "metadata": {},
     "output_type": "display_data"
    }
   ],
   "source": [
    "sns.set(rc={\"figure.figsize\": (15, 5)})\n",
    "\n",
    "plt.subplot(1,2,1)\n",
    "sns.distplot(df_train1['year'])\n",
    "\n",
    "plt.subplot(1,2,2)\n",
    "sns.distplot(df_train1['odometer'])\n",
    "\n",
    "plt.show()"
   ]
  },
  {
   "cell_type": "markdown",
   "metadata": {},
   "source": [
    "\n",
    "As variáveis long e lat devem ser exibidas juntas, pois representam as coordenadas do local em que ocorreu a venda do carro. Abaixo, segue a plotagem desses dados, onde podemos perceber uma concentração de pontos na América do Norte.\n"
   ]
  },
  {
   "cell_type": "code",
   "execution_count": 24,
   "metadata": {},
   "outputs": [
    {
     "data": {
      "image/png": "[encoded data removed]",
      "text/plain": [
       "<Figure size 1080x360 with 1 Axes>"
      ]
     },
     "metadata": {},
     "output_type": "display_data"
    }
   ],
   "source": [
    "plt.scatter(df_train1['long'],df_train1['lat'])\n",
    "\n",
    "plt.xlim(-180,180)\n",
    "plt.ylim(-90,90)\n",
    "plt.show()"
   ]
  },
  {
   "cell_type": "markdown",
   "metadata": {},
   "source": [
    "Vamos agora passar para as variáveis categóricas, abaixo seguem algumas informações gerais. Se analisarmos as variáveis region e state, elas possuem respectivamente 405 e 51 valores. A variável state funciona como um clustering da variável region, que por sua vez funciona como um clustering para as variáveis lat e long. Contudo, é mais eficiente continuarmos trabalhando apenas com a variável state.\n",
    "\n",
    "Uma outra tabela foi feita em seguida, para mostrar quais variáveis possuem, ou muitos valores únicos, ou um único valor que ocorre com frequência muito elevada, ambos os casos são problemáticos e devem ser evitados.\n"
   ]
  },
  {
   "cell_type": "code",
   "execution_count": 25,
   "metadata": {},
   "outputs": [
    {
     "data": {
      "text/html": [
       "<div>\n",
       "<style scoped>\n",
       "    .dataframe tbody tr th:only-of-type {\n",
       "        vertical-align: middle;\n",
       "    }\n",
       "\n",
       "    .dataframe tbody tr th {\n",
       "        vertical-align: top;\n",
       "    }\n",
       "\n",
       "    .dataframe thead th {\n",
       "        text-align: right;\n",
       "    }\n",
       "</style>\n",
       "<table border=\"1\" class=\"dataframe\">\n",
       "  <thead>\n",
       "    <tr style=\"text-align: right;\">\n",
       "      <th></th>\n",
       "      <th>region</th>\n",
       "      <th>manufacturer</th>\n",
       "      <th>model</th>\n",
       "      <th>condition</th>\n",
       "      <th>cylinders</th>\n",
       "      <th>fuel</th>\n",
       "      <th>title_status</th>\n",
       "      <th>transmission</th>\n",
       "      <th>drive</th>\n",
       "      <th>size</th>\n",
       "      <th>type</th>\n",
       "      <th>paint_color</th>\n",
       "      <th>state</th>\n",
       "    </tr>\n",
       "  </thead>\n",
       "  <tbody>\n",
       "    <tr>\n",
       "      <th>count</th>\n",
       "      <td>285828</td>\n",
       "      <td>285828</td>\n",
       "      <td>285828</td>\n",
       "      <td>285828</td>\n",
       "      <td>285828</td>\n",
       "      <td>285828</td>\n",
       "      <td>285828</td>\n",
       "      <td>285828</td>\n",
       "      <td>285828</td>\n",
       "      <td>285828</td>\n",
       "      <td>285828</td>\n",
       "      <td>285828</td>\n",
       "      <td>285828</td>\n",
       "    </tr>\n",
       "    <tr>\n",
       "      <th>unique</th>\n",
       "      <td>405</td>\n",
       "      <td>44</td>\n",
       "      <td>22844</td>\n",
       "      <td>7</td>\n",
       "      <td>9</td>\n",
       "      <td>5</td>\n",
       "      <td>6</td>\n",
       "      <td>3</td>\n",
       "      <td>4</td>\n",
       "      <td>5</td>\n",
       "      <td>14</td>\n",
       "      <td>13</td>\n",
       "      <td>51</td>\n",
       "    </tr>\n",
       "    <tr>\n",
       "      <th>top</th>\n",
       "      <td>rochester</td>\n",
       "      <td>ford</td>\n",
       "      <td>f-150</td>\n",
       "      <td>missing</td>\n",
       "      <td>missing</td>\n",
       "      <td>gas</td>\n",
       "      <td>clean</td>\n",
       "      <td>automatic</td>\n",
       "      <td>4wd</td>\n",
       "      <td>missing</td>\n",
       "      <td>missing</td>\n",
       "      <td>missing</td>\n",
       "      <td>ca</td>\n",
       "    </tr>\n",
       "    <tr>\n",
       "      <th>freq</th>\n",
       "      <td>2356</td>\n",
       "      <td>48676</td>\n",
       "      <td>4938</td>\n",
       "      <td>112932</td>\n",
       "      <td>103279</td>\n",
       "      <td>253451</td>\n",
       "      <td>275235</td>\n",
       "      <td>248697</td>\n",
       "      <td>87846</td>\n",
       "      <td>200676</td>\n",
       "      <td>70557</td>\n",
       "      <td>86072</td>\n",
       "      <td>32118</td>\n",
       "    </tr>\n",
       "  </tbody>\n",
       "</table>\n",
       "</div>"
      ],
      "text/plain": [
       "           region manufacturer   model condition cylinders    fuel  \\\n",
       "count      285828       285828  285828    285828    285828  285828   \n",
       "unique        405           44   22844         7         9       5   \n",
       "top     rochester         ford   f-150   missing   missing     gas   \n",
       "freq         2356        48676    4938    112932    103279  253451   \n",
       "\n",
       "       title_status transmission   drive     size     type paint_color   state  \n",
       "count        285828       285828  285828   285828   285828      285828  285828  \n",
       "unique            6            3       4        5       14          13      51  \n",
       "top           clean    automatic     4wd  missing  missing     missing      ca  \n",
       "freq         275235       248697   87846   200676    70557       86072   32118  "
      ]
     },
     "execution_count": 25,
     "metadata": {},
     "output_type": "execute_result"
    }
   ],
   "source": [
    "df_train1[var_cat].describe()"
   ]
  },
  {
   "cell_type": "code",
   "execution_count": 26,
   "metadata": {},
   "outputs": [
    {
     "data": {
      "text/html": [
       "<div>\n",
       "<style scoped>\n",
       "    .dataframe tbody tr th:only-of-type {\n",
       "        vertical-align: middle;\n",
       "    }\n",
       "\n",
       "    .dataframe tbody tr th {\n",
       "        vertical-align: top;\n",
       "    }\n",
       "\n",
       "    .dataframe thead th {\n",
       "        text-align: right;\n",
       "    }\n",
       "</style>\n",
       "<table border=\"1\" class=\"dataframe\">\n",
       "  <thead>\n",
       "    <tr style=\"text-align: right;\">\n",
       "      <th></th>\n",
       "      <th>top</th>\n",
       "      <th>freq</th>\n",
       "      <th>unique</th>\n",
       "    </tr>\n",
       "  </thead>\n",
       "  <tbody>\n",
       "    <tr>\n",
       "      <th>title_status</th>\n",
       "      <td>clean</td>\n",
       "      <td>0.962939</td>\n",
       "      <td>6</td>\n",
       "    </tr>\n",
       "    <tr>\n",
       "      <th>fuel</th>\n",
       "      <td>gas</td>\n",
       "      <td>0.886726</td>\n",
       "      <td>5</td>\n",
       "    </tr>\n",
       "    <tr>\n",
       "      <th>transmission</th>\n",
       "      <td>automatic</td>\n",
       "      <td>0.870093</td>\n",
       "      <td>3</td>\n",
       "    </tr>\n",
       "    <tr>\n",
       "      <th>size</th>\n",
       "      <td>missing</td>\n",
       "      <td>0.702087</td>\n",
       "      <td>5</td>\n",
       "    </tr>\n",
       "    <tr>\n",
       "      <th>condition</th>\n",
       "      <td>missing</td>\n",
       "      <td>0.395105</td>\n",
       "      <td>7</td>\n",
       "    </tr>\n",
       "    <tr>\n",
       "      <th>cylinders</th>\n",
       "      <td>missing</td>\n",
       "      <td>0.361333</td>\n",
       "      <td>9</td>\n",
       "    </tr>\n",
       "    <tr>\n",
       "      <th>drive</th>\n",
       "      <td>4wd</td>\n",
       "      <td>0.307339</td>\n",
       "      <td>4</td>\n",
       "    </tr>\n",
       "    <tr>\n",
       "      <th>paint_color</th>\n",
       "      <td>missing</td>\n",
       "      <td>0.301132</td>\n",
       "      <td>13</td>\n",
       "    </tr>\n",
       "    <tr>\n",
       "      <th>type</th>\n",
       "      <td>missing</td>\n",
       "      <td>0.246851</td>\n",
       "      <td>14</td>\n",
       "    </tr>\n",
       "    <tr>\n",
       "      <th>manufacturer</th>\n",
       "      <td>ford</td>\n",
       "      <td>0.170298</td>\n",
       "      <td>44</td>\n",
       "    </tr>\n",
       "    <tr>\n",
       "      <th>state</th>\n",
       "      <td>ca</td>\n",
       "      <td>0.112368</td>\n",
       "      <td>51</td>\n",
       "    </tr>\n",
       "    <tr>\n",
       "      <th>model</th>\n",
       "      <td>f-150</td>\n",
       "      <td>0.0172761</td>\n",
       "      <td>22844</td>\n",
       "    </tr>\n",
       "    <tr>\n",
       "      <th>region</th>\n",
       "      <td>rochester</td>\n",
       "      <td>0.00824272</td>\n",
       "      <td>405</td>\n",
       "    </tr>\n",
       "  </tbody>\n",
       "</table>\n",
       "</div>"
      ],
      "text/plain": [
       "                    top        freq unique\n",
       "title_status      clean    0.962939      6\n",
       "fuel                gas    0.886726      5\n",
       "transmission  automatic    0.870093      3\n",
       "size            missing    0.702087      5\n",
       "condition       missing    0.395105      7\n",
       "cylinders       missing    0.361333      9\n",
       "drive               4wd    0.307339      4\n",
       "paint_color     missing    0.301132     13\n",
       "type            missing    0.246851     14\n",
       "manufacturer       ford    0.170298     44\n",
       "state                ca    0.112368     51\n",
       "model             f-150   0.0172761  22844\n",
       "region        rochester  0.00824272    405"
      ]
     },
     "execution_count": 26,
     "metadata": {},
     "output_type": "execute_result"
    }
   ],
   "source": [
    "top = df_train1[var_cat].describe().loc['top',:]\n",
    "freq = df_train1[var_cat].describe().loc['freq',:]/df_train1.shape[0]\n",
    "unique = df_train1[var_cat].describe().loc['unique',:]\n",
    "\n",
    "pd.DataFrame({'top': top, 'freq': freq, 'unique': unique}).sort_values('freq', ascending=False)"
   ]
  },
  {
   "cell_type": "code",
   "execution_count": 27,
   "metadata": {},
   "outputs": [],
   "source": [
    "cols_drop = ['title_status','fuel','transmission','size','model','region']\n",
    "df_train2 = df_train1.drop(cols_drop,axis = 1)"
   ]
  },
  {
   "cell_type": "markdown",
   "metadata": {},
   "source": []
  },
  {
   "cell_type": "code",
   "execution_count": 28,
   "metadata": {},
   "outputs": [],
   "source": [
    "var_cat = ['manufacturer','condition','cylinders', 'drive','type','paint_color','state']\n",
    "replace = ReplaceOutliers(var_cat,0.99)\n",
    "replace.fit(df_train2)"
   ]
  },
  {
   "cell_type": "code",
   "execution_count": 29,
   "metadata": {},
   "outputs": [],
   "source": [
    "df_train2 = replace.transform(df_train2)"
   ]
  },
  {
   "cell_type": "markdown",
   "metadata": {},
   "source": [
    "Para analisar como as variáveis características categóricas estão relacionadas entre si, utilizaremos conceitos de Teoria da informação. Esta teoria fornece uma medida do quanto de informação existe em uma variável aleatória (entropia), e ao tomar duas variáveis, ela fornece uma maneira de quantificar o quanto que uma variável possui de informação em relação a outra(informação mutua). \n",
    "\n",
    "A informação mutua I(X,Y) é simétrica em relação as variáveis, ou seja: I(X,Y) = I(Y,X). Mas como dito anteriormente, também conseguimos quantificar a informação individual de cada variável, H(X) e H(y), esta função é chamada entropia. Se tomarmos então a medida I(X,Y)/H(X), estaremos medindo o quanto da informção de X, que esta contido na variável , sendo 0 <= I(X,Y)/H(X)<= 1.\n",
    "\n",
    "Utilizaremos então a medida I(X,Y)/H(X) para saber o quanto da informação de cada variável característica, está contida nas demais. Uma biblioteca foi criada, com duas funções, uma que calcula a entropia de uma coluna e outra que calcula a informação mutua de duas colunas.\n",
    "\n",
    "Vamos aproveitar, e incluir a variável alvo (price) nesta análise, para isso precisamos discretizar esta variável.\n",
    "\n",
    "\n",
    "![alt text](https://i.imgur.com/dowaInY.jpg)\n",
    "![alt text](https://i.imgur.com/zARCk72.png)"
   ]
  },
  {
   "cell_type": "code",
   "execution_count": 30,
   "metadata": {},
   "outputs": [],
   "source": [
    "# Discretizando a variável alvo\n",
    "\n",
    "qt_intervalos = 5\n",
    "\n",
    "kmeans = KMeans(qt_intervalos)\n",
    "\n",
    "kmeans.fit(df_train2[['price']])\n",
    "price_cat = kmeans.fit_predict(df_train2[['price']])"
   ]
  },
  {
   "cell_type": "code",
   "execution_count": 31,
   "metadata": {},
   "outputs": [
    {
     "name": "stderr",
     "output_type": "stream",
     "text": [
      "C:\\Users\\Luan\\anaconda3\\envs\\py3-TF2.0\\lib\\site-packages\\ipykernel_launcher.py:3: SettingWithCopyWarning: \n",
      "A value is trying to be set on a copy of a slice from a DataFrame.\n",
      "Try using .loc[row_indexer,col_indexer] = value instead\n",
      "\n",
      "See the caveats in the documentation: https://pandas.pydata.org/pandas-docs/stable/user_guide/indexing.html#returning-a-view-versus-a-copy\n",
      "  This is separate from the ipykernel package so we can avoid doing imports until\n"
     ]
    }
   ],
   "source": [
    "var_cat_inf = ['condition', 'cylinders', 'drive', 'paint_color', 'type', 'manufacturer', 'state']\n",
    "dados = df_train2[var_cat_inf]\n",
    "dados['price'] = price_cat"
   ]
  },
  {
   "cell_type": "code",
   "execution_count": 32,
   "metadata": {},
   "outputs": [],
   "source": [
    "comb_var = [(v1,v2) for v1 in dados.columns for v2 in dados.columns]\n",
    "matriz_inf = pd.DataFrame(data = comb_var, columns = ['Variável_1', 'Variável_2'])\n",
    "\n",
    "col_inf = []\n",
    "for i in range(matriz_inf.shape[0]):\n",
    "    \n",
    "    col_1 = matriz_inf['Variável_1'][i]\n",
    "    col_2 = matriz_inf['Variável_2'][i]\n",
    "    \n",
    "    if col_1 == col_2:\n",
    "        col_inf.append(1.0)\n",
    "    else:\n",
    "        col_inf.append(inf_mutua(dados[[col_1,col_2]])/entropia(dados[col_1]))\n",
    "\n",
    "matriz_inf['Informação'] = col_inf"
   ]
  },
  {
   "cell_type": "code",
   "execution_count": 33,
   "metadata": {},
   "outputs": [
    {
     "data": {
      "image/png": "[encoded data removed]",
      "text/plain": [
       "<Figure size 1080x360 with 2 Axes>"
      ]
     },
     "metadata": {},
     "output_type": "display_data"
    }
   ],
   "source": [
    "heat_inf = matriz_inf.pivot(\"Variável_2\", \"Variável_1\", \"Informação\") \n",
    "\n",
    "plt.title('Medida: Informação_Mutua(Variavel_2,Variavel_1) / Entropia(Variavel_1)', fontsize=20)\n",
    "sns.set(rc={\"figure.figsize\": (15, 10)})\n",
    "sns.heatmap(heat_inf, linewidths=.5,annot=True,vmin=0, vmax=1)\n",
    "\n",
    "plt.show()"
   ]
  },
  {
   "cell_type": "markdown",
   "metadata": {},
   "source": [
    "\n",
    "Acima, temos uma representação do quanto que cada variável de uma dada linha, possui da informação de uma variável em uma certa coluna. Os elementos na diagonal são todos iguais a 1, isso apenas indica que cada variável possui informação completa sobre si mesma. Podemos ver por exemplo, que 24% da informação da variável drive esta contida na variável type. \n",
    "\n",
    "Em um cenário ideal, a coluna da variável price estaria o mais clareada possível, indicando que todas as variáveis característica consideradas, possuem informação relevante da variável alvo. E todas as outras células (com exceção da diagonal), estariam escuras, indicando que as variáveis característica são independentes.\n",
    "\n",
    "A variável característica que mais se aproxima do padrão ideal é a variável state, possuindo 19% de toda informação contida na variável price, e pouca informação em relação as outras variáveis.\n"
   ]
  },
  {
   "cell_type": "code",
   "execution_count": 34,
   "metadata": {},
   "outputs": [],
   "source": [
    "var_cat = ['condition', 'cylinders', 'drive', 'paint_color', 'type', 'manufacturer', 'state']\n",
    "dados = df_train2[var_cat_inf + ['log_price']]"
   ]
  },
  {
   "cell_type": "code",
   "execution_count": 35,
   "metadata": {},
   "outputs": [],
   "source": [
    "measure = ['Mean','Std','Median','Mode']\n",
    "measure_vars = {}\n",
    "for var in var_cat:    \n",
    "    measure_referencia = [round(dados['log_price'].mean(),2), round(dados['log_price'].std(),2), round(dados['log_price'].median(),2), round(dados['log_price'].mode()[0],2)]\n",
    "    measure_df = pd.DataFrame({'Measure': measure, 'Referência': measure_referencia})\n",
    "    for pos in dados[var].unique():\n",
    "        log_price_pos = dados['log_price'][dados[var] == pos]\n",
    "        measure_pos = [round(log_price_pos.mean(),2), round(log_price_pos.std(),2), round(log_price_pos.median(),2), round(log_price_pos.mode()[0],2)]\n",
    "        measure_df[pos] = measure_pos\n",
    "    measure_vars[var] = measure_df"
   ]
  },
  {
   "cell_type": "code",
   "execution_count": 36,
   "metadata": {},
   "outputs": [
    {
     "data": {
      "image/png": "[encoded data removed]",
      "text/plain": [
       "<Figure size 1080x720 with 7 Axes>"
      ]
     },
     "metadata": {},
     "output_type": "display_data"
    }
   ],
   "source": [
    "sns.set(rc={\"figure.figsize\": (15, 10)})\n",
    "for i in range(len(var_cat)):\n",
    "    var = var_cat[i]\n",
    "    plt.subplot(2,4,i+1)\n",
    "\n",
    "    plt.title(var)\n",
    "    mean_referencia = measure_vars[var]['Referência'][0]\n",
    "    referencia = [mean_referencia for i in range(measure_vars[var].shape[1]-2)]\n",
    "    plt.plot(range(measure_vars[var].shape[1]-2),referencia, c = 'red')\n",
    "    plt.ylim(6,12)\n",
    "    plt.scatter(range(measure_vars[var].shape[1]-2),measure_vars[var].iloc[0,2:])\n",
    "\n",
    "plt.show()"
   ]
  },
  {
   "cell_type": "code",
   "execution_count": 37,
   "metadata": {},
   "outputs": [
    {
     "data": {
      "text/html": [
       "<div>\n",
       "<style scoped>\n",
       "    .dataframe tbody tr th:only-of-type {\n",
       "        vertical-align: middle;\n",
       "    }\n",
       "\n",
       "    .dataframe tbody tr th {\n",
       "        vertical-align: top;\n",
       "    }\n",
       "\n",
       "    .dataframe thead th {\n",
       "        text-align: right;\n",
       "    }\n",
       "</style>\n",
       "<table border=\"1\" class=\"dataframe\">\n",
       "  <thead>\n",
       "    <tr style=\"text-align: right;\">\n",
       "      <th></th>\n",
       "      <th>Measure</th>\n",
       "      <th>Referência</th>\n",
       "      <th>sedan</th>\n",
       "      <th>wagon</th>\n",
       "      <th>SUV</th>\n",
       "      <th>truck</th>\n",
       "      <th>other</th>\n",
       "      <th>missing</th>\n",
       "      <th>pickup</th>\n",
       "      <th>coupe</th>\n",
       "      <th>convertible</th>\n",
       "      <th>mini-van</th>\n",
       "      <th>hatchback</th>\n",
       "      <th>van</th>\n",
       "    </tr>\n",
       "  </thead>\n",
       "  <tbody>\n",
       "    <tr>\n",
       "      <th>0</th>\n",
       "      <td>Mean</td>\n",
       "      <td>9.27</td>\n",
       "      <td>8.97</td>\n",
       "      <td>9.17</td>\n",
       "      <td>9.28</td>\n",
       "      <td>9.69</td>\n",
       "      <td>9.81</td>\n",
       "      <td>9.00</td>\n",
       "      <td>9.98</td>\n",
       "      <td>9.47</td>\n",
       "      <td>9.41</td>\n",
       "      <td>8.80</td>\n",
       "      <td>9.06</td>\n",
       "      <td>9.36</td>\n",
       "    </tr>\n",
       "    <tr>\n",
       "      <th>1</th>\n",
       "      <td>Std</td>\n",
       "      <td>1.06</td>\n",
       "      <td>1.01</td>\n",
       "      <td>0.80</td>\n",
       "      <td>0.97</td>\n",
       "      <td>1.10</td>\n",
       "      <td>0.86</td>\n",
       "      <td>1.14</td>\n",
       "      <td>0.77</td>\n",
       "      <td>1.09</td>\n",
       "      <td>0.98</td>\n",
       "      <td>0.85</td>\n",
       "      <td>0.90</td>\n",
       "      <td>0.91</td>\n",
       "    </tr>\n",
       "    <tr>\n",
       "      <th>2</th>\n",
       "      <td>Median</td>\n",
       "      <td>9.43</td>\n",
       "      <td>9.10</td>\n",
       "      <td>9.30</td>\n",
       "      <td>9.45</td>\n",
       "      <td>9.98</td>\n",
       "      <td>10.00</td>\n",
       "      <td>9.08</td>\n",
       "      <td>10.23</td>\n",
       "      <td>9.71</td>\n",
       "      <td>9.55</td>\n",
       "      <td>8.85</td>\n",
       "      <td>9.21</td>\n",
       "      <td>9.55</td>\n",
       "    </tr>\n",
       "    <tr>\n",
       "      <th>3</th>\n",
       "      <td>Mode</td>\n",
       "      <td>8.85</td>\n",
       "      <td>8.85</td>\n",
       "      <td>8.85</td>\n",
       "      <td>9.10</td>\n",
       "      <td>10.24</td>\n",
       "      <td>10.34</td>\n",
       "      <td>8.70</td>\n",
       "      <td>10.27</td>\n",
       "      <td>10.09</td>\n",
       "      <td>10.00</td>\n",
       "      <td>8.16</td>\n",
       "      <td>9.30</td>\n",
       "      <td>9.80</td>\n",
       "    </tr>\n",
       "  </tbody>\n",
       "</table>\n",
       "</div>"
      ],
      "text/plain": [
       "  Measure  Referência  sedan  wagon   SUV  truck  other  missing  pickup  \\\n",
       "0    Mean        9.27   8.97   9.17  9.28   9.69   9.81     9.00    9.98   \n",
       "1     Std        1.06   1.01   0.80  0.97   1.10   0.86     1.14    0.77   \n",
       "2  Median        9.43   9.10   9.30  9.45   9.98  10.00     9.08   10.23   \n",
       "3    Mode        8.85   8.85   8.85  9.10  10.24  10.34     8.70   10.27   \n",
       "\n",
       "   coupe  convertible  mini-van  hatchback   van  \n",
       "0   9.47         9.41      8.80       9.06  9.36  \n",
       "1   1.09         0.98      0.85       0.90  0.91  \n",
       "2   9.71         9.55      8.85       9.21  9.55  \n",
       "3  10.09        10.00      8.16       9.30  9.80  "
      ]
     },
     "execution_count": 37,
     "metadata": {},
     "output_type": "execute_result"
    }
   ],
   "source": [
    "measure_vars['type']"
   ]
  },
  {
   "cell_type": "markdown",
   "metadata": {},
   "source": [
    "\n",
    "Os gráficos acima apresentam a média da variável log_price, fixando todos os possíveis resultados da variável analisada. A linha vermelha é o comportamento geral da variável log_price.\n",
    "\n",
    "O dicionário measure_vars apresenta para cada variável, como seus possíveis resultados influenciam em alguns parâmetros estatísticos da variável log_price.\n"
   ]
  },
  {
   "cell_type": "code",
   "execution_count": 38,
   "metadata": {},
   "outputs": [
    {
     "data": {
      "text/html": [
       "<div>\n",
       "<style scoped>\n",
       "    .dataframe tbody tr th:only-of-type {\n",
       "        vertical-align: middle;\n",
       "    }\n",
       "\n",
       "    .dataframe tbody tr th {\n",
       "        vertical-align: top;\n",
       "    }\n",
       "\n",
       "    .dataframe thead th {\n",
       "        text-align: right;\n",
       "    }\n",
       "</style>\n",
       "<table border=\"1\" class=\"dataframe\">\n",
       "  <thead>\n",
       "    <tr style=\"text-align: right;\">\n",
       "      <th></th>\n",
       "      <th>year</th>\n",
       "      <th>odometer</th>\n",
       "      <th>log_price</th>\n",
       "    </tr>\n",
       "  </thead>\n",
       "  <tbody>\n",
       "    <tr>\n",
       "      <th>year</th>\n",
       "      <td>1.000000</td>\n",
       "      <td>-0.453249</td>\n",
       "      <td>0.424863</td>\n",
       "    </tr>\n",
       "    <tr>\n",
       "      <th>odometer</th>\n",
       "      <td>-0.453249</td>\n",
       "      <td>1.000000</td>\n",
       "      <td>-0.421156</td>\n",
       "    </tr>\n",
       "    <tr>\n",
       "      <th>log_price</th>\n",
       "      <td>0.424863</td>\n",
       "      <td>-0.421156</td>\n",
       "      <td>1.000000</td>\n",
       "    </tr>\n",
       "  </tbody>\n",
       "</table>\n",
       "</div>"
      ],
      "text/plain": [
       "               year  odometer  log_price\n",
       "year       1.000000 -0.453249   0.424863\n",
       "odometer  -0.453249  1.000000  -0.421156\n",
       "log_price  0.424863 -0.421156   1.000000"
      ]
     },
     "execution_count": 38,
     "metadata": {},
     "output_type": "execute_result"
    }
   ],
   "source": [
    "df_train2[['year','odometer','log_price']].corr()"
   ]
  },
  {
   "cell_type": "markdown",
   "metadata": {},
   "source": [
    "## Model"
   ]
  },
  {
   "cell_type": "markdown",
   "metadata": {},
   "source": [
    "\n",
    "Criaremos agora o modelo, que ira prever o preço de um carro usado. Aplicaremos uma regressão linear, utilizando o método LinearRegression da biblioteca sklearn, buscando prever o valor da variável log_price, como dito anteriormente. Para automatizar o préprocessamento dos dados, de forma que possamos mudar facilmente alguns parâmetros, criamos a classe Model, que será importada logo abaixo.\n"
   ]
  },
  {
   "cell_type": "code",
   "execution_count": 39,
   "metadata": {},
   "outputs": [],
   "source": [
    "from Teste_icarros.Scaler import Model"
   ]
  },
  {
   "cell_type": "code",
   "execution_count": 40,
   "metadata": {},
   "outputs": [],
   "source": [
    "if 'log_price' in df_train0.columns:\n",
    "    df_train0 = df_train0.drop(['log_price'],axis=1)"
   ]
  },
  {
   "cell_type": "code",
   "execution_count": 41,
   "metadata": {},
   "outputs": [],
   "source": [
    "cols_drop = ['region','odometer','model','condition','fuel','title_status','transmission','drive','size','lat','long']\n",
    "cols_replace_out = [ 'state','type', 'paint_color','manufacturer']\n",
    "cols_standard = ['year']\n",
    "\n",
    "model = Model(cols_drop, cols_replace_out, 0.95, cols_standard)\n",
    "model.fit(df_train0)"
   ]
  },
  {
   "cell_type": "code",
   "execution_count": 42,
   "metadata": {},
   "outputs": [],
   "source": [
    "y_hat, targets = model.yhat_targets(df_validation0)\n",
    "err = y_hat - targets\n",
    "err.name = 'Erro'"
   ]
  },
  {
   "cell_type": "code",
   "execution_count": 43,
   "metadata": {},
   "outputs": [
    {
     "data": {
      "text/html": [
       "<div>\n",
       "<style scoped>\n",
       "    .dataframe tbody tr th:only-of-type {\n",
       "        vertical-align: middle;\n",
       "    }\n",
       "\n",
       "    .dataframe tbody tr th {\n",
       "        vertical-align: top;\n",
       "    }\n",
       "\n",
       "    .dataframe thead th {\n",
       "        text-align: right;\n",
       "    }\n",
       "</style>\n",
       "<table border=\"1\" class=\"dataframe\">\n",
       "  <thead>\n",
       "    <tr style=\"text-align: right;\">\n",
       "      <th></th>\n",
       "      <th>Measure</th>\n",
       "      <th>Erro</th>\n",
       "    </tr>\n",
       "  </thead>\n",
       "  <tbody>\n",
       "    <tr>\n",
       "      <th>0</th>\n",
       "      <td>Mean</td>\n",
       "      <td>-0.00</td>\n",
       "    </tr>\n",
       "    <tr>\n",
       "      <th>1</th>\n",
       "      <td>Std</td>\n",
       "      <td>0.91</td>\n",
       "    </tr>\n",
       "    <tr>\n",
       "      <th>2</th>\n",
       "      <td>Median</td>\n",
       "      <td>-0.11</td>\n",
       "    </tr>\n",
       "    <tr>\n",
       "      <th>3</th>\n",
       "      <td>Mode</td>\n",
       "      <td>2.75</td>\n",
       "    </tr>\n",
       "  </tbody>\n",
       "</table>\n",
       "</div>"
      ],
      "text/plain": [
       "  Measure  Erro\n",
       "0    Mean -0.00\n",
       "1     Std  0.91\n",
       "2  Median -0.11\n",
       "3    Mode  2.75"
      ]
     },
     "execution_count": 43,
     "metadata": {},
     "output_type": "execute_result"
    }
   ],
   "source": [
    "measure = ['Mean', 'Std', 'Median', 'Mode']\n",
    "measure_erro = [round(err.mean(),2),round(err.std(),2), round(err.median(),2), round(err.mode()[0],2)]\n",
    "\n",
    "measure_df = pd.DataFrame({'Measure':measure,'Erro': measure_erro})\n",
    "measure_df"
   ]
  },
  {
   "cell_type": "code",
   "execution_count": 44,
   "metadata": {},
   "outputs": [
    {
     "name": "stderr",
     "output_type": "stream",
     "text": [
      "C:\\Users\\Luan\\anaconda3\\envs\\py3-TF2.0\\lib\\site-packages\\seaborn\\distributions.py:2551: FutureWarning: `distplot` is a deprecated function and will be removed in a future version. Please adapt your code to use either `displot` (a figure-level function with similar flexibility) or `histplot` (an axes-level function for histograms).\n",
      "  warnings.warn(msg, FutureWarning)\n"
     ]
    },
    {
     "data": {
      "text/plain": [
       "<AxesSubplot:xlabel='Erro', ylabel='Density'>"
      ]
     },
     "execution_count": 44,
     "metadata": {},
     "output_type": "execute_result"
    },
    {
     "data": {
      "image/png": "[encoded data removed]",
      "text/plain": [
       "<Figure size 720x360 with 1 Axes>"
      ]
     },
     "metadata": {},
     "output_type": "display_data"
    }
   ],
   "source": [
    "sns.set(rc={\"figure.figsize\": (10, 5)})\n",
    "sns.distplot(err)"
   ]
  },
  {
   "cell_type": "markdown",
   "metadata": {},
   "source": [
    "### Resultado final do modelo - Aplicando aos dados de treino"
   ]
  },
  {
   "cell_type": "code",
   "execution_count": 45,
   "metadata": {},
   "outputs": [],
   "source": [
    "y_hat, targets = model.yhat_targets(df_test0)\n",
    "err = y_hat - targets\n",
    "err.name = 'Erro'"
   ]
  },
  {
   "cell_type": "code",
   "execution_count": 46,
   "metadata": {},
   "outputs": [
    {
     "data": {
      "text/html": [
       "<div>\n",
       "<style scoped>\n",
       "    .dataframe tbody tr th:only-of-type {\n",
       "        vertical-align: middle;\n",
       "    }\n",
       "\n",
       "    .dataframe tbody tr th {\n",
       "        vertical-align: top;\n",
       "    }\n",
       "\n",
       "    .dataframe thead th {\n",
       "        text-align: right;\n",
       "    }\n",
       "</style>\n",
       "<table border=\"1\" class=\"dataframe\">\n",
       "  <thead>\n",
       "    <tr style=\"text-align: right;\">\n",
       "      <th></th>\n",
       "      <th>Measure</th>\n",
       "      <th>Erro</th>\n",
       "    </tr>\n",
       "  </thead>\n",
       "  <tbody>\n",
       "    <tr>\n",
       "      <th>0</th>\n",
       "      <td>Mean</td>\n",
       "      <td>0.00</td>\n",
       "    </tr>\n",
       "    <tr>\n",
       "      <th>1</th>\n",
       "      <td>Std</td>\n",
       "      <td>0.92</td>\n",
       "    </tr>\n",
       "    <tr>\n",
       "      <th>2</th>\n",
       "      <td>Median</td>\n",
       "      <td>-0.12</td>\n",
       "    </tr>\n",
       "    <tr>\n",
       "      <th>3</th>\n",
       "      <td>Mode</td>\n",
       "      <td>2.75</td>\n",
       "    </tr>\n",
       "  </tbody>\n",
       "</table>\n",
       "</div>"
      ],
      "text/plain": [
       "  Measure  Erro\n",
       "0    Mean  0.00\n",
       "1     Std  0.92\n",
       "2  Median -0.12\n",
       "3    Mode  2.75"
      ]
     },
     "execution_count": 46,
     "metadata": {},
     "output_type": "execute_result"
    }
   ],
   "source": [
    "measure = ['Mean', 'Std', 'Median', 'Mode']\n",
    "measure_erro = [round(err.mean(),2),round(err.std(),2), round(err.median(),2), round(err.mode()[0],2)]\n",
    "\n",
    "measure_df = pd.DataFrame({'Measure':measure,'Erro': measure_erro})\n",
    "measure_df"
   ]
  },
  {
   "cell_type": "code",
   "execution_count": 47,
   "metadata": {},
   "outputs": [
    {
     "name": "stderr",
     "output_type": "stream",
     "text": [
      "C:\\Users\\Luan\\anaconda3\\envs\\py3-TF2.0\\lib\\site-packages\\seaborn\\distributions.py:2551: FutureWarning: `distplot` is a deprecated function and will be removed in a future version. Please adapt your code to use either `displot` (a figure-level function with similar flexibility) or `histplot` (an axes-level function for histograms).\n",
      "  warnings.warn(msg, FutureWarning)\n"
     ]
    },
    {
     "data": {
      "image/png": "[encoded data removed]",
      "text/plain": [
       "<Figure size 1080x360 with 2 Axes>"
      ]
     },
     "metadata": {},
     "output_type": "display_data"
    }
   ],
   "source": [
    "sns.set(rc={\"figure.figsize\": (15, 5)})\n",
    "\n",
    "plt.subplot(1,2,1)\n",
    "sns.distplot(err)\n",
    "\n",
    "plt.subplot(1,2,2)\n",
    "plt.scatter(targets, y_hat)\n",
    "plt.xlabel('Targets (y_test)',size=18)\n",
    "plt.ylabel('Predictions (y_hat_test)',size=18)\n",
    "plt.plot(range(0,14),range(0,14),c='orange')\n",
    "plt.xlim(1,15)\n",
    "plt.ylim(1,15)\n",
    "\n",
    "plt.show()"
   ]
  }
 ],
 "metadata": {
  "kernelspec": {
   "display_name": "Python [conda env:py3-TF2.0]",
   "language": "python",
   "name": "conda-env-py3-TF2.0-py"
  },
  "language_info": {
   "codemirror_mode": {
    "name": "ipython",
    "version": 3
   },
   "file_extension": ".py",
   "mimetype": "text/x-python",
   "name": "python",
   "nbconvert_exporter": "python",
   "pygments_lexer": "ipython3",
   "version": "3.7.7"
  }
 },
 "nbformat": 4,
 "nbformat_minor": 4
}
